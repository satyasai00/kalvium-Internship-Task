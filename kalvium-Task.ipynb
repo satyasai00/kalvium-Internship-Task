{
 "cells": [
  {
   "cell_type": "code",
   "execution_count": 2,
   "id": "b6ea85ba",
   "metadata": {},
   "outputs": [
    {
     "name": "stdout",
     "output_type": "stream",
     "text": [
      "    S. Number            Constituency Name                    Winner  \\\n",
      "0          1.                        Araku        Gumma Thanuja Rani   \n",
      "1          2.                   Srikakulam  Kinjarapu Rammohan Naidu   \n",
      "2          3.                 Vizianagaram     Appalanaidu Kalisetti   \n",
      "3          4.                Visakhapatnam     Sribharat Mathukumili   \n",
      "4          5.                   Anakapalle                 CM Ramesh   \n",
      "..        ...                          ...                       ...   \n",
      "538      539.           Bardhaman-Durgapur            Kirti Jha Azad   \n",
      "539      540.                      Asansol          Shatrughan Sinha   \n",
      "540      541.                       Bolpur            Asit Kumar Mal   \n",
      "541      542.                      Birbhum               Satabdi Roy   \n",
      "542      543.  Andaman and Nicobar Islands           Bishnu Pada Ray   \n",
      "\n",
      "                           State Winner Party    Margin  \n",
      "0                 Andhra Pradesh        YSRCP    50,580  \n",
      "1                 Andhra Pradesh          TDP  3,27,901  \n",
      "2                 Andhra Pradesh          TDP  2,49,351  \n",
      "3                 Andhra Pradesh          TDP  5,04,247  \n",
      "4                 Andhra Pradesh          BJP  2,96,530  \n",
      "..                           ...          ...       ...  \n",
      "538                  West Bengal          TMC  1,37,981  \n",
      "539                  West Bengal          TMC    59,564  \n",
      "540                  West Bengal          TMC  3,27,253  \n",
      "541                  West Bengal          TMC  1,97,650  \n",
      "542  Andaman and Nicobar Islands          BJP    24,396  \n",
      "\n",
      "[543 rows x 6 columns]\n"
     ]
    }
   ],
   "source": [
    "import requests\n",
    "from bs4 import BeautifulSoup\n",
    "import pandas as pd\n",
    "\n",
    "# URL of the webpage\n",
    "url = \"https://www.indiatvnews.com/news/india/lok-sabha-election-results-2024-full-list-of-all-constituency-wise-leading-winning-candidates-parties-bjp-congress-2024-06-04-934845\"\n",
    "\n",
    "# Fetching HTML content\n",
    "r = requests.get(url)\n",
    "htmlContent = r.content\n",
    "\n",
    "# Parsing HTML with BeautifulSoup\n",
    "soup = BeautifulSoup(htmlContent, 'html.parser')\n",
    "\n",
    "# Finding the table\n",
    "table = soup.find_all(\"table\")\n",
    "\n",
    "# Assuming the first table contains the data you want\n",
    "table_titles = ['S. Number', 'Constituency Name', 'Winner', 'State', 'Winner Party', 'Margin']\n",
    "\n",
    "# Creating an empty DataFrame with the column titles\n",
    "df = pd.DataFrame(columns=table_titles)\n",
    "\n",
    "# Extracting data from table rows\n",
    "rows = soup.find_all('tr')\n",
    "data = []\n",
    "for row in rows[1:]:\n",
    "    rowData = row.find_all('td')\n",
    "    individual_row_data = [data.text.strip() for data in rowData]\n",
    "    data.append(individual_row_data)\n",
    "\n",
    "# Creating DataFrame from the extracted data\n",
    "df = pd.DataFrame(data, columns=table_titles)\n",
    "\n",
    "print(df)\n"
   ]
  },
  {
   "cell_type": "code",
   "execution_count": 5,
   "id": "53e161d4",
   "metadata": {},
   "outputs": [],
   "source": [
    "df.to_csv(r'C:/Users/satya/Documents/Kalvium/DataSet/elections_result.csv',index =False)"
   ]
  },
  {
   "cell_type": "code",
   "execution_count": null,
   "id": "c3a0be94",
   "metadata": {},
   "outputs": [],
   "source": []
  }
 ],
 "metadata": {
  "kernelspec": {
   "display_name": "Python 3 (ipykernel)",
   "language": "python",
   "name": "python3"
  },
  "language_info": {
   "codemirror_mode": {
    "name": "ipython",
    "version": 3
   },
   "file_extension": ".py",
   "mimetype": "text/x-python",
   "name": "python",
   "nbconvert_exporter": "python",
   "pygments_lexer": "ipython3",
   "version": "3.11.4"
  }
 },
 "nbformat": 4,
 "nbformat_minor": 5
}
